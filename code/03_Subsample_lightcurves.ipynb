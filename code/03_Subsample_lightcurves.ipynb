{
 "cells": [
  {
   "cell_type": "markdown",
   "id": "30662051-8607-4f50-972d-a3c7b953792b",
   "metadata": {},
   "source": [
    "# 3 \"Observe\" ideal light curves, i.e.:\n",
    "    \n",
    "* add mean magnitude to decide on the brightness of the object\n",
    "* sub-sample at times eg. corresponding to SDSS, or SDSS+PS1+ZTF, SDSS+PS1+ZTF+LSST, etc. \n",
    "* add Gaussian noise to each photometric point, where noise model can be magnidude-dependent, different for each survey\n",
    "* (In exploration one can simulate many \"observations\" of the same light curve, since if we eg. change brightness, the errors will change, etc. Or use identical errors to all points...) "
   ]
  },
  {
   "cell_type": "code",
   "execution_count": null,
   "id": "17535a12-b585-4805-b545-ba09bd4d58e3",
   "metadata": {},
   "outputs": [],
   "source": []
  }
 ],
 "metadata": {
  "kernelspec": {
   "display_name": "Python 3",
   "language": "python",
   "name": "python3"
  },
  "language_info": {
   "codemirror_mode": {
    "name": "ipython",
    "version": 3
   },
   "file_extension": ".py",
   "mimetype": "text/x-python",
   "name": "python",
   "nbconvert_exporter": "python",
   "pygments_lexer": "ipython3",
   "version": "3.7.6"
  }
 },
 "nbformat": 4,
 "nbformat_minor": 5
}
